{
 "cells": [
  {
   "cell_type": "code",
   "execution_count": 88,
   "id": "94a01b3e",
   "metadata": {},
   "outputs": [],
   "source": [
    "####PART 1: EXTRACTING THE TOP 100 COMPANIES IN INDIA BY MARKET CAP####\n",
    "from bs4 import BeautifulSoup\n",
    "import requests\n",
    "import pandas as pd\n",
    "from selenium import webdriver\n",
    "from selenium.webdriver.common.by import By\n",
    "import time"
   ]
  },
  {
   "cell_type": "code",
   "execution_count": 236,
   "id": "33f84476",
   "metadata": {},
   "outputs": [],
   "source": [
    "driver = webdriver.Chrome()\n",
    "url = 'https://www.moneycontrol.com/stocks/marketinfo/marketcap/bse/index.html'\n",
    "driver.get(url)\n",
    "time.sleep(5)\n",
    "page_source = driver.page_source\n",
    "soup = BeautifulSoup(page_source, 'html.parser')"
   ]
  },
  {
   "cell_type": "code",
   "execution_count": 42,
   "id": "028a75d5",
   "metadata": {},
   "outputs": [],
   "source": [
    "z=soup.find_all('table')[1].find('thead').find_all('th')\n",
    "headers=[]\n",
    "for i in range(len(z)):\n",
    "    headers.append(z[i].text.strip())"
   ]
  },
  {
   "cell_type": "code",
   "execution_count": 33,
   "id": "a61d7fe6",
   "metadata": {},
   "outputs": [],
   "source": [
    "y=soup.find_all('table')[1].find('tbody').find_all('tr')"
   ]
  },
  {
   "cell_type": "code",
   "execution_count": 40,
   "id": "599272fc",
   "metadata": {},
   "outputs": [],
   "source": [
    "my_list=[]"
   ]
  },
  {
   "cell_type": "code",
   "execution_count": 50,
   "id": "6589c9fb",
   "metadata": {},
   "outputs": [],
   "source": [
    "for i in range(len(y)):\n",
    "    z=y[i].find_all('td')\n",
    "    my_rows=[]\n",
    "    for j in range(len(z)):\n",
    "        my_rows.append(z[j].text.strip())\n",
    "    my_list.append(my_rows)"
   ]
  },
  {
   "cell_type": "code",
   "execution_count": 43,
   "id": "3a1b3177",
   "metadata": {},
   "outputs": [
    {
     "data": {
      "text/plain": [
       "['Company Name',\n",
       " 'Last Price',\n",
       " '% Change',\n",
       " '52 wk High',\n",
       " '52 wk Low',\n",
       " 'Market Cap (Rs. cr)']"
      ]
     },
     "execution_count": 43,
     "metadata": {},
     "output_type": "execute_result"
    }
   ],
   "source": [
    "headers"
   ]
  },
  {
   "cell_type": "code",
   "execution_count": 47,
   "id": "98cafbcb",
   "metadata": {},
   "outputs": [],
   "source": [
    "df=pd.DataFrame(columns=headers)"
   ]
  },
  {
   "cell_type": "code",
   "execution_count": 58,
   "id": "2bd47521",
   "metadata": {},
   "outputs": [],
   "source": [
    "for i in range(len(my_list)):\n",
    "    df.loc[len(df)]=my_list[i]"
   ]
  },
  {
   "cell_type": "code",
   "execution_count": 60,
   "id": "6761b6f8",
   "metadata": {},
   "outputs": [
    {
     "name": "stdout",
     "output_type": "stream",
     "text": [
      "<class 'pandas.core.frame.DataFrame'>\n",
      "Int64Index: 102 entries, 0 to 101\n",
      "Data columns (total 6 columns):\n",
      " #   Column               Non-Null Count  Dtype \n",
      "---  ------               --------------  ----- \n",
      " 0   Company Name         102 non-null    object\n",
      " 1   Last Price           102 non-null    object\n",
      " 2   % Change             102 non-null    object\n",
      " 3   52 wk High           102 non-null    object\n",
      " 4   52 wk Low            102 non-null    object\n",
      " 5   Market Cap (Rs. cr)  102 non-null    object\n",
      "dtypes: object(6)\n",
      "memory usage: 5.6+ KB\n"
     ]
    }
   ],
   "source": [
    "df.info()"
   ]
  },
  {
   "cell_type": "code",
   "execution_count": 68,
   "id": "b208c34c",
   "metadata": {},
   "outputs": [],
   "source": [
    "df.columns=['company_name', 'last_price', 'perc_change', '52_wk_high', '52_wk_low','market_cap_cr']"
   ]
  },
  {
   "cell_type": "code",
   "execution_count": null,
   "id": "dc3263e1",
   "metadata": {},
   "outputs": [],
   "source": [
    "for col in ('last_price', 'perc_change', '52_wk_high', '52_wk_low','market_cap_cr'):\n",
    "    df[col]=df[col].str.replace(',','')\n",
    "    df[col]=df[col].astype(float)"
   ]
  },
  {
   "cell_type": "code",
   "execution_count": 75,
   "id": "d7082f6b",
   "metadata": {},
   "outputs": [
    {
     "name": "stdout",
     "output_type": "stream",
     "text": [
      "<class 'pandas.core.frame.DataFrame'>\n",
      "Int64Index: 102 entries, 0 to 101\n",
      "Data columns (total 6 columns):\n",
      " #   Column         Non-Null Count  Dtype  \n",
      "---  ------         --------------  -----  \n",
      " 0   company_name   102 non-null    object \n",
      " 1   last_price     102 non-null    float64\n",
      " 2   perc_change    102 non-null    float64\n",
      " 3   52_wk_high     102 non-null    float64\n",
      " 4   52_wk_low      102 non-null    float64\n",
      " 5   market_cap_cr  102 non-null    float64\n",
      "dtypes: float64(5), object(1)\n",
      "memory usage: 5.6+ KB\n"
     ]
    }
   ],
   "source": [
    "df.info()"
   ]
  },
  {
   "cell_type": "code",
   "execution_count": 78,
   "id": "e4e2c45c",
   "metadata": {},
   "outputs": [],
   "source": [
    "df.drop_duplicates(inplace=True)"
   ]
  },
  {
   "cell_type": "code",
   "execution_count": 80,
   "id": "dce8d9a5",
   "metadata": {},
   "outputs": [
    {
     "data": {
      "text/html": [
       "<div>\n",
       "<style scoped>\n",
       "    .dataframe tbody tr th:only-of-type {\n",
       "        vertical-align: middle;\n",
       "    }\n",
       "\n",
       "    .dataframe tbody tr th {\n",
       "        vertical-align: top;\n",
       "    }\n",
       "\n",
       "    .dataframe thead th {\n",
       "        text-align: right;\n",
       "    }\n",
       "</style>\n",
       "<table border=\"1\" class=\"dataframe\">\n",
       "  <thead>\n",
       "    <tr style=\"text-align: right;\">\n",
       "      <th></th>\n",
       "      <th>company_name</th>\n",
       "      <th>last_price</th>\n",
       "      <th>perc_change</th>\n",
       "      <th>52_wk_high</th>\n",
       "      <th>52_wk_low</th>\n",
       "      <th>market_cap_cr</th>\n",
       "    </tr>\n",
       "  </thead>\n",
       "  <tbody>\n",
       "    <tr>\n",
       "      <th>0</th>\n",
       "      <td>Reliance</td>\n",
       "      <td>2868.55</td>\n",
       "      <td>-0.07</td>\n",
       "      <td>3024.80</td>\n",
       "      <td>2221.05</td>\n",
       "      <td>1940830.96</td>\n",
       "    </tr>\n",
       "    <tr>\n",
       "      <th>1</th>\n",
       "      <td>TCS</td>\n",
       "      <td>3858.00</td>\n",
       "      <td>0.63</td>\n",
       "      <td>4254.45</td>\n",
       "      <td>3156.20</td>\n",
       "      <td>1395858.16</td>\n",
       "    </tr>\n",
       "    <tr>\n",
       "      <th>4</th>\n",
       "      <td>HDFC Bank</td>\n",
       "      <td>1465.25</td>\n",
       "      <td>0.02</td>\n",
       "      <td>1757.80</td>\n",
       "      <td>1363.45</td>\n",
       "      <td>1114049.25</td>\n",
       "    </tr>\n",
       "    <tr>\n",
       "      <th>5</th>\n",
       "      <td>ICICI Bank</td>\n",
       "      <td>1132.40</td>\n",
       "      <td>0.17</td>\n",
       "      <td>1169.30</td>\n",
       "      <td>898.85</td>\n",
       "      <td>796042.20</td>\n",
       "    </tr>\n",
       "    <tr>\n",
       "      <th>6</th>\n",
       "      <td>Bharti Airtel</td>\n",
       "      <td>1349.50</td>\n",
       "      <td>0.40</td>\n",
       "      <td>1364.05</td>\n",
       "      <td>783.60</td>\n",
       "      <td>778889.67</td>\n",
       "    </tr>\n",
       "  </tbody>\n",
       "</table>\n",
       "</div>"
      ],
      "text/plain": [
       "    company_name  last_price  perc_change  52_wk_high  52_wk_low  \\\n",
       "0       Reliance     2868.55        -0.07     3024.80    2221.05   \n",
       "1            TCS     3858.00         0.63     4254.45    3156.20   \n",
       "4      HDFC Bank     1465.25         0.02     1757.80    1363.45   \n",
       "5     ICICI Bank     1132.40         0.17     1169.30     898.85   \n",
       "6  Bharti Airtel     1349.50         0.40     1364.05     783.60   \n",
       "\n",
       "   market_cap_cr  \n",
       "0     1940830.96  \n",
       "1     1395858.16  \n",
       "4     1114049.25  \n",
       "5      796042.20  \n",
       "6      778889.67  "
      ]
     },
     "execution_count": 80,
     "metadata": {},
     "output_type": "execute_result"
    }
   ],
   "source": [
    "df.head()"
   ]
  },
  {
   "cell_type": "code",
   "execution_count": 240,
   "id": "59230b1b",
   "metadata": {},
   "outputs": [],
   "source": [
    "####PART 2: EXTRACTING THE TOP GAINERS AND LOSERS IN THE MARKET. STOCK MARKET ANALYSIS####\n",
    "url = 'https://www.moneycontrol.com/'\n",
    "page_source = requests.get(url)\n",
    "soup = BeautifulSoup(page_source.text, 'html.parser')"
   ]
  },
  {
   "cell_type": "code",
   "execution_count": 95,
   "id": "2b185d04",
   "metadata": {},
   "outputs": [],
   "source": [
    "y=soup.find_all('thead')\n",
    "z=soup.find_all('tbody')"
   ]
  },
  {
   "cell_type": "code",
   "execution_count": 164,
   "id": "6d0d7126",
   "metadata": {},
   "outputs": [],
   "source": [
    "###Indian indices###\n",
    "cols=[]\n",
    "a=y[0].find_all('th')\n",
    "for i in range(len(a)):\n",
    "    cols.append(a[i].text.strip())\n",
    "df_indian_indices = pd.DataFrame(columns=cols)\n",
    "b=z[0].find_all('td')\n",
    "rows=[]\n",
    "for i in range(0,len(b),4):\n",
    "    row=[]\n",
    "    for j in range(i,i+4):\n",
    "        row.append(b[j].text.strip())\n",
    "    rows.append(row)\n",
    "for i in range(len(rows)):\n",
    "    df_indian_indices.loc[len(df_indian_indices)]=rows[i]\n",
    "df_indian_indices.columns=['index','price','change','perc_change']\n",
    "for col in ('price','change','perc_change'):\n",
    "    df_indian_indices[col]=df_indian_indices[col].str.replace(',','')\n",
    "    df_indian_indices[col]=df_indian_indices[col].astype(float)"
   ]
  },
  {
   "cell_type": "code",
   "execution_count": 165,
   "id": "cc49e806",
   "metadata": {},
   "outputs": [
    {
     "name": "stdout",
     "output_type": "stream",
     "text": [
      "<class 'pandas.core.frame.DataFrame'>\n",
      "Int64Index: 15 entries, 0 to 14\n",
      "Data columns (total 4 columns):\n",
      " #   Column       Non-Null Count  Dtype  \n",
      "---  ------       --------------  -----  \n",
      " 0   index        15 non-null     object \n",
      " 1   price        15 non-null     float64\n",
      " 2   change       15 non-null     float64\n",
      " 3   perc_change  15 non-null     float64\n",
      "dtypes: float64(3), object(1)\n",
      "memory usage: 600.0+ bytes\n",
      "None\n",
      "          index     price  change  perc_change\n",
      "0      Nifty 50  22468.15  -33.85        -0.15\n",
      "1    BSE Sensex  73869.96 -135.98        -0.18\n",
      "2    Nifty Bank  48133.70  -65.80        -0.14\n",
      "3      Nifty IT  33318.40 -120.35        -0.36\n",
      "4  BSE SmallCap  47808.15 -151.52        -0.32\n"
     ]
    }
   ],
   "source": [
    "print(df_indian_indices.info())\n",
    "print(df_indian_indices.head())"
   ]
  },
  {
   "cell_type": "code",
   "execution_count": 166,
   "id": "840b11cf",
   "metadata": {},
   "outputs": [],
   "source": [
    "###Global Markets###\n",
    "cols=[]\n",
    "a=y[1].find_all('th')\n",
    "for i in range(len(a)):\n",
    "    cols.append(a[i].text.strip())\n",
    "df_global_indices = pd.DataFrame(columns=cols)\n",
    "b=z[1].find_all('td')\n",
    "rows=[]\n",
    "for i in range(0,len(b),4):\n",
    "    row=[]\n",
    "    for j in range(i,i+4):\n",
    "        row.append(b[j].text.strip())\n",
    "    rows.append(row)\n",
    "for i in range(len(rows)):\n",
    "    df_global_indices.loc[len(df_global_indices)]=rows[i]\n",
    "df_global_indices.columns=['index','price','change','perc_change']\n",
    "for col in ('price','change','perc_change'):\n",
    "    df_global_indices[col]=df_global_indices[col].str.replace(',','')\n",
    "    df_global_indices[col]=df_global_indices[col].astype(float)"
   ]
  },
  {
   "cell_type": "code",
   "execution_count": 167,
   "id": "dec2fc80",
   "metadata": {},
   "outputs": [
    {
     "name": "stdout",
     "output_type": "stream",
     "text": [
      "<class 'pandas.core.frame.DataFrame'>\n",
      "Int64Index: 3 entries, 0 to 2\n",
      "Data columns (total 4 columns):\n",
      " #   Column       Non-Null Count  Dtype  \n",
      "---  ------       --------------  -----  \n",
      " 0   index        3 non-null      object \n",
      " 1   price        3 non-null      float64\n",
      " 2   change       3 non-null      float64\n",
      " 3   perc_change  3 non-null      float64\n",
      "dtypes: float64(3), object(1)\n",
      "memory usage: 120.0+ bytes\n",
      "None\n",
      "                  index     price  change  perc_change\n",
      "0     Nikkei 225 May 21  39096.55   26.87         0.07\n",
      "1  Straits Times May 21   3302.56  -11.49        -0.35\n",
      "2      Hang Seng May 21  19241.43 -394.79        -2.01\n"
     ]
    }
   ],
   "source": [
    "print(df_global_indices.info())\n",
    "print(df_global_indices.head())"
   ]
  },
  {
   "cell_type": "code",
   "execution_count": 170,
   "id": "b1e6a263",
   "metadata": {},
   "outputs": [],
   "source": [
    "###Most Active Stocks###\n",
    "cols=[]\n",
    "a=y[2].find_all('th')\n",
    "for i in range(len(a)):\n",
    "    cols.append(a[i].text.strip())\n",
    "df_active_indices = pd.DataFrame(columns=cols)\n",
    "b=z[2].find_all('td')\n",
    "rows=[]\n",
    "for i in range(0,len(b),4):\n",
    "    row=[]\n",
    "    for j in range(i,i+4):\n",
    "        row.append(b[j].text.strip())\n",
    "    rows.append(row)\n",
    "for i in range(len(rows)):\n",
    "    df_active_indices.loc[len(df_active_indices)]=rows[i]\n",
    "df_active_indices.columns=['index','price','change','value_cr']\n",
    "for col in ('price','change','value_cr'):\n",
    "    df_active_indices[col]=df_active_indices[col].str.replace(',','')\n",
    "    df_active_indices[col]=df_active_indices[col].astype(float)"
   ]
  },
  {
   "cell_type": "code",
   "execution_count": 171,
   "id": "cbda02c4",
   "metadata": {},
   "outputs": [
    {
     "name": "stdout",
     "output_type": "stream",
     "text": [
      "<class 'pandas.core.frame.DataFrame'>\n",
      "Int64Index: 5 entries, 0 to 4\n",
      "Data columns (total 4 columns):\n",
      " #   Column    Non-Null Count  Dtype  \n",
      "---  ------    --------------  -----  \n",
      " 0   index     5 non-null      object \n",
      " 1   price     5 non-null      float64\n",
      " 2   change    5 non-null      float64\n",
      " 3   value_cr  5 non-null      float64\n",
      "dtypes: float64(3), object(1)\n",
      "memory usage: 200.0+ bytes\n",
      "None\n",
      "            index    price  change  value_cr\n",
      "0       HDFC Bank  1466.45    0.40    679.30\n",
      "1        Reliance  2860.00   -9.65    296.86\n",
      "2  Kotak Mahindra  1711.40   14.45    189.05\n",
      "3      ICICI Bank  1125.00   -5.75    169.18\n",
      "4       Axis Bank  1134.85   -8.90    161.21\n"
     ]
    }
   ],
   "source": [
    "print(df_active_indices.info())\n",
    "print(df_active_indices.head())"
   ]
  },
  {
   "cell_type": "code",
   "execution_count": 183,
   "id": "15e9e21e",
   "metadata": {},
   "outputs": [
    {
     "name": "stdout",
     "output_type": "stream",
     "text": [
      "<class 'pandas.core.frame.DataFrame'>\n",
      "Int64Index: 5 entries, 0 to 4\n",
      "Data columns (total 4 columns):\n",
      " #   Column     Non-Null Count  Dtype  \n",
      "---  ------     --------------  -----  \n",
      " 0   index      5 non-null      object \n",
      " 1   price      5 non-null      float64\n",
      " 2   change     5 non-null      float64\n",
      " 3   perc_gain  5 non-null      float64\n",
      "dtypes: float64(3), object(1)\n",
      "memory usage: 200.0+ bytes\n",
      "None\n",
      "             index    price  change  perc_gain\n",
      "0       Coal India   479.35    9.65       2.05\n",
      "1         Hindalco   669.50    9.15       1.39\n",
      "2             BPCL   637.60    8.60       1.37\n",
      "3  Apollo Hospital  6023.80   69.85       1.17\n",
      "4        JSW Steel   900.35    9.55       1.07\n"
     ]
    }
   ],
   "source": [
    "###Top Gainers Stocks###\n",
    "cols=[]\n",
    "a=y[4].find_all('th')\n",
    "for i in range(len(a)):\n",
    "    cols.append(a[i].text.strip())\n",
    "df_gainers = pd.DataFrame(columns=cols)\n",
    "b=z[4].find_all('td')\n",
    "rows=[]\n",
    "for i in range(0,len(b),4):\n",
    "    row=[]\n",
    "    for j in range(i,i+4):\n",
    "        row.append(b[j].text.strip())\n",
    "    rows.append(row)\n",
    "for i in range(len(rows)):\n",
    "    df_gainers.loc[len(df_gainers)]=rows[i]\n",
    "df_gainers.columns=['index','price','change','perc_gain']\n",
    "for col in ('price','change','perc_gain'):\n",
    "    df_gainers[col]=df_gainers[col].str.replace(',','')\n",
    "    df_gainers[col]=df_gainers[col].astype(float)\n",
    "print(df_gainers.info())\n",
    "print(df_gainers.head())"
   ]
  },
  {
   "cell_type": "code",
   "execution_count": 187,
   "id": "5c8e6a43",
   "metadata": {},
   "outputs": [
    {
     "name": "stdout",
     "output_type": "stream",
     "text": [
      "<class 'pandas.core.frame.DataFrame'>\n",
      "Int64Index: 5 entries, 0 to 4\n",
      "Data columns (total 4 columns):\n",
      " #   Column     Non-Null Count  Dtype  \n",
      "---  ------     --------------  -----  \n",
      " 0   index      5 non-null      object \n",
      " 1   price      5 non-null      float64\n",
      " 2   change     5 non-null      float64\n",
      " 3   perc_loss  5 non-null      float64\n",
      "dtypes: float64(3), object(1)\n",
      "memory usage: 200.0+ bytes\n",
      "None\n",
      "             index    price  change  perc_loss\n",
      "0           Nestle  2449.25  -55.15      -2.20\n",
      "1              M&M  2480.50  -23.20      -0.93\n",
      "2        Axis Bank  1134.30   -9.45      -0.83\n",
      "3              TCS  3820.15  -31.30      -0.81\n",
      "4  SBI Life Insura  1429.15  -10.70      -0.74\n"
     ]
    }
   ],
   "source": [
    "###Top losers Stocks###\n",
    "cols=[]\n",
    "a=y[6].find_all('th')\n",
    "for i in range(len(a)):\n",
    "    cols.append(a[i].text.strip())\n",
    "df_losers = pd.DataFrame(columns=cols)\n",
    "b=z[6].find_all('td')\n",
    "rows=[]\n",
    "for i in range(0,len(b),4):\n",
    "    row=[]\n",
    "    for j in range(i,i+4):\n",
    "        row.append(b[j].text.strip())\n",
    "    rows.append(row)\n",
    "for i in range(len(rows)):\n",
    "    df_losers.loc[len(df_losers)]=rows[i]\n",
    "df_losers.columns=['index','price','change','perc_loss']\n",
    "for col in ('price','change','perc_loss'):\n",
    "    df_losers[col]=df_losers[col].str.replace(',','')\n",
    "    df_losers[col]=df_losers[col].astype(float)\n",
    "print(df_losers.info())\n",
    "print(df_losers.head())"
   ]
  },
  {
   "cell_type": "code",
   "execution_count": 224,
   "id": "6fc65fa7",
   "metadata": {},
   "outputs": [
    {
     "name": "stdout",
     "output_type": "stream",
     "text": [
      "<class 'pandas.core.frame.DataFrame'>\n",
      "Int64Index: 4 entries, 0 to 3\n",
      "Data columns (total 4 columns):\n",
      " #   Column       Non-Null Count  Dtype  \n",
      "---  ------       --------------  -----  \n",
      " 0   index        4 non-null      object \n",
      " 1   price        4 non-null      float64\n",
      " 2   change       4 non-null      float64\n",
      " 3   perc_change  4 non-null      float64\n",
      "dtypes: float64(3), object(1)\n",
      "memory usage: 160.0+ bytes\n",
      "None\n",
      "               index    price  change  perc_change\n",
      "0        Gold Jun 05  73825.0  -542.0        -0.73\n",
      "1      Silver Jul 05  93506.0 -1761.0        -1.85\n",
      "2    Crudeoil Jun 18   6587.0     8.0         0.12\n",
      "3  Naturalgas May 28    228.3     1.2         0.53\n"
     ]
    }
   ],
   "source": [
    "###COMMODITIES###\n",
    "cols=[]\n",
    "a=y[11].find_all('th')\n",
    "for i in range(len(a)):\n",
    "    cols.append(a[i].text.strip())\n",
    "cols.remove('')\n",
    "df_commodity = pd.DataFrame(columns=cols)\n",
    "b=z[11].find_all('td')\n",
    "rows=[]\n",
    "for i in range(0,len(b),5):\n",
    "    row=[]\n",
    "    for j in range(i,i+5):\n",
    "        row.append(b[j].text.strip())\n",
    "    row.remove('')\n",
    "    rows.append(row)\n",
    "for i in range(len(rows)):\n",
    "    df_commodity.loc[len(df_commodity)]=rows[i]\n",
    "df_commodity.columns=['index','price','change','perc_change']\n",
    "for col in ('price','change','perc_change'):\n",
    "    df_commodity[col]=df_commodity[col].str.replace(',','')\n",
    "    df_commodity[col]=df_commodity[col].astype(float)\n",
    "print(df_commodity.info())\n",
    "print(df_commodity.head())"
   ]
  },
  {
   "cell_type": "code",
   "execution_count": 227,
   "id": "b269dc13",
   "metadata": {},
   "outputs": [
    {
     "name": "stdout",
     "output_type": "stream",
     "text": [
      "<class 'pandas.core.frame.DataFrame'>\n",
      "Int64Index: 4 entries, 0 to 3\n",
      "Data columns (total 4 columns):\n",
      " #   Column       Non-Null Count  Dtype  \n",
      "---  ------       --------------  -----  \n",
      " 0   index        4 non-null      object \n",
      " 1   price        4 non-null      float64\n",
      " 2   change       4 non-null      float64\n",
      " 3   perc_change  4 non-null      float64\n",
      "dtypes: float64(3), object(1)\n",
      "memory usage: 160.0+ bytes\n",
      "None\n",
      "           index     price  change  perc_change\n",
      "0  USDINR May 31   83.9950     0.1         0.12\n",
      "1  EURINR May 31   91.0000     0.0         0.00\n",
      "2  JPYINR May 31   55.8025     0.0         0.00\n",
      "3  GBPINR May 31  105.8900     0.0         0.00\n"
     ]
    }
   ],
   "source": [
    "###CURRENCIES###\n",
    "cols=[]\n",
    "a=y[13].find_all('th')\n",
    "for i in range(len(a)):\n",
    "    cols.append(a[i].text.strip())\n",
    "# cols.remove('')\n",
    "df_currency = pd.DataFrame(columns=cols)\n",
    "b=z[13].find_all('td')\n",
    "rows=[]\n",
    "for i in range(0,len(b),4):\n",
    "    row=[]\n",
    "    for j in range(i,i+4):\n",
    "        row.append(b[j].text.strip())\n",
    "#     row.remove('')\n",
    "    rows.append(row)\n",
    "for i in range(len(rows)):\n",
    "    df_currency.loc[len(df_currency)]=rows[i]\n",
    "df_currency.columns=['index','price','change','perc_change']\n",
    "for col in ('price','change','perc_change'):\n",
    "    df_currency[col]=df_currency[col].str.replace(',','')\n",
    "    df_currency[col]=df_currency[col].astype(float)\n",
    "print(df_currency.info())\n",
    "print(df_currency.head())"
   ]
  },
  {
   "cell_type": "code",
   "execution_count": 275,
   "id": "797c8335",
   "metadata": {},
   "outputs": [],
   "source": [
    "####EXTRACTING THE LIST OF TRENDING NEWS AND THEIR URL####\n",
    "import json\n",
    "import re"
   ]
  },
  {
   "cell_type": "code",
   "execution_count": 263,
   "id": "d645f2d5",
   "metadata": {},
   "outputs": [],
   "source": [
    "my_dict=json.loads(soup.find_all('script', type='application/ld+json')[3].string)"
   ]
  },
  {
   "cell_type": "code",
   "execution_count": 274,
   "id": "9aa41045",
   "metadata": {},
   "outputs": [
    {
     "data": {
      "text/html": [
       "<div>\n",
       "<style scoped>\n",
       "    .dataframe tbody tr th:only-of-type {\n",
       "        vertical-align: middle;\n",
       "    }\n",
       "\n",
       "    .dataframe tbody tr th {\n",
       "        vertical-align: top;\n",
       "    }\n",
       "\n",
       "    .dataframe thead th {\n",
       "        text-align: right;\n",
       "    }\n",
       "</style>\n",
       "<table border=\"1\" class=\"dataframe\">\n",
       "  <thead>\n",
       "    <tr style=\"text-align: right;\">\n",
       "      <th></th>\n",
       "      <th>headlines</th>\n",
       "      <th>URL</th>\n",
       "    </tr>\n",
       "  </thead>\n",
       "  <tbody>\n",
       "    <tr>\n",
       "      <th>0</th>\n",
       "      <td>BJP&amp;#039;s Sambit Patra to observe fast as &amp;#0...</td>\n",
       "      <td>https://www.moneycontrol.com/elections/lok-sab...</td>\n",
       "    </tr>\n",
       "    <tr>\n",
       "      <th>1</th>\n",
       "      <td>Madras High Court bars Binny promoters from ac...</td>\n",
       "      <td>https://www.moneycontrol.com/news/business/mad...</td>\n",
       "    </tr>\n",
       "    <tr>\n",
       "      <th>2</th>\n",
       "      <td>Foreign education loan: How to get the best deal</td>\n",
       "      <td>https://www.moneycontrol.com/news/business/per...</td>\n",
       "    </tr>\n",
       "    <tr>\n",
       "      <th>3</th>\n",
       "      <td>‘Heeramandi’ actress Shruti Sharma on Sharmin ...</td>\n",
       "      <td>https://www.moneycontrol.com/entertainment/tv/...</td>\n",
       "    </tr>\n",
       "    <tr>\n",
       "      <th>4</th>\n",
       "      <td>Japanese animation&amp;#039; Studio Ghibli makes h...</td>\n",
       "      <td>https://www.moneycontrol.com/entertainment/mov...</td>\n",
       "    </tr>\n",
       "  </tbody>\n",
       "</table>\n",
       "</div>"
      ],
      "text/plain": [
       "                                           headlines  \\\n",
       "0  BJP&#039;s Sambit Patra to observe fast as &#0...   \n",
       "1  Madras High Court bars Binny promoters from ac...   \n",
       "2   Foreign education loan: How to get the best deal   \n",
       "3  ‘Heeramandi’ actress Shruti Sharma on Sharmin ...   \n",
       "4  Japanese animation&#039; Studio Ghibli makes h...   \n",
       "\n",
       "                                                 URL  \n",
       "0  https://www.moneycontrol.com/elections/lok-sab...  \n",
       "1  https://www.moneycontrol.com/news/business/mad...  \n",
       "2  https://www.moneycontrol.com/news/business/per...  \n",
       "3  https://www.moneycontrol.com/entertainment/tv/...  \n",
       "4  https://www.moneycontrol.com/entertainment/mov...  "
      ]
     },
     "execution_count": 274,
     "metadata": {},
     "output_type": "execute_result"
    }
   ],
   "source": [
    "url=[]\n",
    "headline=[]\n",
    "df_news=pd.DataFrame(columns=['headlines','URL'])\n",
    "for i in range(len(my_dict['itemListElement'])):\n",
    "    url.append(my_dict['itemListElement'][i]['url'])\n",
    "    headline.append(my_dict['itemListElement'][i]['name'])\n",
    "df_news['URL']=url \n",
    "df_news['headlines']=headline\n",
    "df_news.head()"
   ]
  },
  {
   "cell_type": "code",
   "execution_count": 280,
   "id": "d977b1a3",
   "metadata": {},
   "outputs": [
    {
     "data": {
      "text/html": [
       "<div>\n",
       "<style scoped>\n",
       "    .dataframe tbody tr th:only-of-type {\n",
       "        vertical-align: middle;\n",
       "    }\n",
       "\n",
       "    .dataframe tbody tr th {\n",
       "        vertical-align: top;\n",
       "    }\n",
       "\n",
       "    .dataframe thead th {\n",
       "        text-align: right;\n",
       "    }\n",
       "</style>\n",
       "<table border=\"1\" class=\"dataframe\">\n",
       "  <thead>\n",
       "    <tr style=\"text-align: right;\">\n",
       "      <th></th>\n",
       "      <th>headlines</th>\n",
       "      <th>URL</th>\n",
       "    </tr>\n",
       "  </thead>\n",
       "  <tbody>\n",
       "    <tr>\n",
       "      <th>0</th>\n",
       "      <td>BJPs Sambit Patra to observe fast as penanace ...</td>\n",
       "      <td>https://www.moneycontrol.com/elections/lok-sab...</td>\n",
       "    </tr>\n",
       "    <tr>\n",
       "      <th>1</th>\n",
       "      <td>Madras High Court bars Binny promoters from ac...</td>\n",
       "      <td>https://www.moneycontrol.com/news/business/mad...</td>\n",
       "    </tr>\n",
       "    <tr>\n",
       "      <th>2</th>\n",
       "      <td>Foreign education loan How to get the best deal</td>\n",
       "      <td>https://www.moneycontrol.com/news/business/per...</td>\n",
       "    </tr>\n",
       "    <tr>\n",
       "      <th>3</th>\n",
       "      <td>Heeramandi actress Shruti Sharma on Sharmin Se...</td>\n",
       "      <td>https://www.moneycontrol.com/entertainment/tv/...</td>\n",
       "    </tr>\n",
       "    <tr>\n",
       "      <th>4</th>\n",
       "      <td>Japanese animation Studio Ghibli makes history...</td>\n",
       "      <td>https://www.moneycontrol.com/entertainment/mov...</td>\n",
       "    </tr>\n",
       "  </tbody>\n",
       "</table>\n",
       "</div>"
      ],
      "text/plain": [
       "                                           headlines  \\\n",
       "0  BJPs Sambit Patra to observe fast as penanace ...   \n",
       "1  Madras High Court bars Binny promoters from ac...   \n",
       "2    Foreign education loan How to get the best deal   \n",
       "3  Heeramandi actress Shruti Sharma on Sharmin Se...   \n",
       "4  Japanese animation Studio Ghibli makes history...   \n",
       "\n",
       "                                                 URL  \n",
       "0  https://www.moneycontrol.com/elections/lok-sab...  \n",
       "1  https://www.moneycontrol.com/news/business/mad...  \n",
       "2  https://www.moneycontrol.com/news/business/per...  \n",
       "3  https://www.moneycontrol.com/entertainment/tv/...  \n",
       "4  https://www.moneycontrol.com/entertainment/mov...  "
      ]
     },
     "execution_count": 280,
     "metadata": {},
     "output_type": "execute_result"
    }
   ],
   "source": [
    "pattern = r'[^a-zA-Z0-9\\s]'\n",
    "df_news['headlines'] = df_news['headlines'].apply(lambda x: re.sub(pattern, '', str(x)))\n",
    "pattern = r'039'\n",
    "df_news['headlines'] = df_news['headlines'].apply(lambda x: re.sub(pattern, '', str(x)))\n",
    "df_news.head()"
   ]
  },
  {
   "cell_type": "code",
   "execution_count": 365,
   "id": "ea90e616",
   "metadata": {},
   "outputs": [],
   "source": [
    "####EXTRACTING OTHER IMPORTANT ELEMENTS####\n",
    "df_other=pd.DataFrame(columns=['Title','Content'])\n",
    "title=[]\n",
    "content=[]\n",
    "\n",
    "ele=soup.find_all('div', class_=\"list_sepbx\")\n",
    "x=ele[0].find_all('p')[0].text.strip().replace('\\n', '').replace('\\t', '')\n",
    "content.append(x[12:])\n",
    "title.append(x[:12])\n",
    "x=ele[1].find_all('p')[0].text.strip().replace('\\n', '').replace('\\t', '')\n",
    "title.append('in focus')\n",
    "content.append(x)\n",
    "x=ele[1].find_all('li')\n",
    "for i in range(len(x)):\n",
    "    title.append('in focus')\n",
    "    content.append(x[i].text.strip().replace('\\n', '').replace('\\t', ''))\n",
    "x=ele[2].find_all('p')[0].text.strip().replace('\\n', '').replace('\\t', '')\n",
    "title.append('stock watch')\n",
    "content.append(x)\n",
    "\n",
    "df_other['Title']=title\n",
    "df_other['Content']=content\n",
    "df_other.drop(df_other.loc[df_other['Content']==''].index,inplace=True)"
   ]
  },
  {
   "cell_type": "code",
   "execution_count": 366,
   "id": "280ef168",
   "metadata": {},
   "outputs": [
    {
     "data": {
      "text/html": [
       "<div>\n",
       "<style scoped>\n",
       "    .dataframe tbody tr th:only-of-type {\n",
       "        vertical-align: middle;\n",
       "    }\n",
       "\n",
       "    .dataframe tbody tr th {\n",
       "        vertical-align: top;\n",
       "    }\n",
       "\n",
       "    .dataframe thead th {\n",
       "        text-align: right;\n",
       "    }\n",
       "</style>\n",
       "<table border=\"1\" class=\"dataframe\">\n",
       "  <thead>\n",
       "    <tr style=\"text-align: right;\">\n",
       "      <th></th>\n",
       "      <th>Title</th>\n",
       "      <th>Content</th>\n",
       "    </tr>\n",
       "  </thead>\n",
       "  <tbody>\n",
       "    <tr>\n",
       "      <th>0</th>\n",
       "      <td>MC EXCLUSIVE</td>\n",
       "      <td>Bandhan Bank may look for an outsider for MD G...</td>\n",
       "    </tr>\n",
       "    <tr>\n",
       "      <th>1</th>\n",
       "      <td>in focus</td>\n",
       "      <td>Uneven pay, opacity and central shotcalling fo...</td>\n",
       "    </tr>\n",
       "    <tr>\n",
       "      <th>2</th>\n",
       "      <td>in focus</td>\n",
       "      <td>KKR invests $150 million in AI-powered healthc...</td>\n",
       "    </tr>\n",
       "    <tr>\n",
       "      <th>3</th>\n",
       "      <td>in focus</td>\n",
       "      <td>NCGTC audit report of Bandhan Bank’s microloan...</td>\n",
       "    </tr>\n",
       "    <tr>\n",
       "      <th>5</th>\n",
       "      <td>stock watch</td>\n",
       "      <td>Mankind Pharma’s large fund-raising plan irks ...</td>\n",
       "    </tr>\n",
       "  </tbody>\n",
       "</table>\n",
       "</div>"
      ],
      "text/plain": [
       "          Title                                            Content\n",
       "0  MC EXCLUSIVE  Bandhan Bank may look for an outsider for MD G...\n",
       "1      in focus  Uneven pay, opacity and central shotcalling fo...\n",
       "2      in focus  KKR invests $150 million in AI-powered healthc...\n",
       "3      in focus  NCGTC audit report of Bandhan Bank’s microloan...\n",
       "5   stock watch  Mankind Pharma’s large fund-raising plan irks ..."
      ]
     },
     "execution_count": 366,
     "metadata": {},
     "output_type": "execute_result"
    }
   ],
   "source": [
    "df_other"
   ]
  },
  {
   "cell_type": "code",
   "execution_count": null,
   "id": "a0e1898a",
   "metadata": {},
   "outputs": [],
   "source": [
    "####SUMMARIZING THE LIST OF DATAFRAMES####\n",
    "# interesting elements: df_other\n",
    "# trending news and their URLs: df_news\n",
    "# currency market summary: df_currency\n",
    "# commodity market summary: df_commodity\n",
    "# top stocks gaining: df_gainers\n",
    "# top stocks losing: df_losers\n",
    "# most active stocks: df_active_indices\n",
    "# global market: df_global_indices\n",
    "# Indian market: df_indian_indices\n",
    "# top 100 Indian companies by market cap and their performances: df"
   ]
  },
  {
   "cell_type": "code",
   "execution_count": 410,
   "id": "a4d8bb84",
   "metadata": {},
   "outputs": [],
   "source": [
    "### CONNECTING WITH THE MSSQL Server####\n",
    "import sqlalchemy as sal\n",
    "engine=sal.create_engine('mssql://LAPTOP-R3E2GC1C\\SQLEXPRESS01/master?driver=ODBC+DRIVER+17+FOR+SQL+SERVER')\n",
    "conn=engine.connect()"
   ]
  },
  {
   "cell_type": "code",
   "execution_count": 415,
   "id": "a68aba34",
   "metadata": {},
   "outputs": [],
   "source": [
    "### LOADING ALL THE DATAFRAMES TO THE MS SQL Server ###\n",
    "def load(df1,df2,df3,df4,df5,df6,df7,df8,df9,df10):\n",
    "    df1.to_sql('df_other',con=conn,index=False,if_exists='replace')\n",
    "    df2.to_sql('df_news',con=conn,index=False,if_exists='replace')\n",
    "    df3.to_sql('df_currency',con=conn,index=False,if_exists='replace')\n",
    "    df4.to_sql('df_commodity',con=conn,index=False,if_exists='replace')\n",
    "    df5.to_sql('df_gainers',con=conn,index=False,if_exists='replace')\n",
    "    df6.to_sql('df_losers',con=conn,index=False,if_exists='replace')\n",
    "    df7.to_sql('df_active_indices',con=conn,index=False,if_exists='replace')\n",
    "    df8.to_sql('df_global_indices',con=conn,index=False,if_exists='replace')\n",
    "    df9.to_sql('df_indian_indices',con=conn,index=False,if_exists='replace')\n",
    "    df10.to_sql('df_top100',con=conn,index=False,if_exists='replace')"
   ]
  },
  {
   "cell_type": "code",
   "execution_count": 419,
   "id": "0476490e",
   "metadata": {},
   "outputs": [],
   "source": [
    "### LOADING ALL THE DATAFRAMES TO CSV FILES ###\n",
    "def load1(df1,df2,df3,df4,df5,df6,df7,df8,df9,df10):\n",
    "    df1.to_csv('df_other.csv',index=False)\n",
    "    df2.to_csv('df_news.csv',index=False)\n",
    "    df3.to_csv('df_currency.csv',index=False)\n",
    "    df4.to_csv('df_commodity.csv',index=False)\n",
    "    df5.to_csv('df_gainers.csv',index=False)\n",
    "    df6.to_csv('df_losers.csv',index=False)\n",
    "    df7.to_csv('df_active_indices.csv',index=False)\n",
    "    df8.to_csv('df_global_indices.csv',index=False)\n",
    "    df9.to_csv('df_indian_indices.csv',index=False)\n",
    "    df10.to_csv('df_top100.csv',index=False)"
   ]
  },
  {
   "cell_type": "code",
   "execution_count": 416,
   "id": "91f7934c",
   "metadata": {},
   "outputs": [],
   "source": [
    "###SEND ALL THE DATAFRAMES TO THE LOAD() TO LOAD TO MS SQL Server ###\n",
    "load(df_other,df_news,df_currency,df_commodity,df_gainers,df_losers,df_active_indices,df_global_indices,df_indian_indices,df)"
   ]
  },
  {
   "cell_type": "code",
   "execution_count": 420,
   "id": "41e579c6",
   "metadata": {},
   "outputs": [],
   "source": [
    "###SEND ALL THE DATAFRAMES TO THE LOAD() TO CREATE CSV Files ###\n",
    "load1(df_other,df_news,df_currency,df_commodity,df_gainers,df_losers,df_active_indices,df_global_indices,df_indian_indices,df)"
   ]
  }
 ],
 "metadata": {
  "kernelspec": {
   "display_name": "Python 3 (ipykernel)",
   "language": "python",
   "name": "python3"
  },
  "language_info": {
   "codemirror_mode": {
    "name": "ipython",
    "version": 3
   },
   "file_extension": ".py",
   "mimetype": "text/x-python",
   "name": "python",
   "nbconvert_exporter": "python",
   "pygments_lexer": "ipython3",
   "version": "3.10.9"
  }
 },
 "nbformat": 4,
 "nbformat_minor": 5
}
